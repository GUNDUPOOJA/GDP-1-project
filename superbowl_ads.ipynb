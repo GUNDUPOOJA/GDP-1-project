{
  "nbformat": 4,
  "nbformat_minor": 0,
  "metadata": {
    "colab": {
      "name": "superbowl-ads.ipynb",
      "provenance": [],
      "collapsed_sections": [],
      "authorship_tag": "ABX9TyP3/+xhEizsb2VvKDkUPAXm",
      "include_colab_link": true
    },
    "kernelspec": {
      "name": "python3",
      "display_name": "Python 3"
    }
  },
  "cells": [
    {
      "cell_type": "markdown",
      "metadata": {
        "id": "view-in-github",
        "colab_type": "text"
      },
      "source": [
        "<a href=\"https://colab.research.google.com/github/GUNDUPOOJA/GDP-1-project/blob/master/superbowl_ads.ipynb\" target=\"_parent\"><img src=\"https://colab.research.google.com/assets/colab-badge.svg\" alt=\"Open In Colab\"/></a>"
      ]
    },
    {
      "cell_type": "code",
      "metadata": {
        "id": "77yx_S_3BVMk"
      },
      "source": [
        "# Code to read csv file into colaboratory:\r\n",
        "!pip install -U -q PyDrive\r\n",
        "from pydrive.auth import GoogleAuth\r\n",
        "from pydrive.drive import GoogleDrive\r\n",
        "from google.colab import auth\r\n",
        "from oauth2client.client import GoogleCredentials"
      ],
      "execution_count": null,
      "outputs": []
    },
    {
      "cell_type": "code",
      "metadata": {
        "id": "iPAjO_dNBcBd"
      },
      "source": [
        "# Authenticate the email-id\r\n",
        "auth.authenticate_user()\r\n",
        "gauth = GoogleAuth()\r\n",
        "gauth.credentials = GoogleCredentials.get_application_default()\r\n",
        "drive = GoogleDrive(gauth)\r\n"
      ],
      "execution_count": null,
      "outputs": []
    },
    {
      "cell_type": "code",
      "metadata": {
        "id": "0ZmIgOgV9REB"
      },
      "source": [
        "# To import the csv that we uploaded it to google drive and giving the id of the file \r\n",
        "downloaded = drive.CreateFile({'id':'1sT-baaZeMDN0dhD_8ni8LBl_vaXdCCgw'}) # replace the id with id of file you want to access\r\n",
        "downloaded.GetContentFile('superbowl_ads.csv');"
      ],
      "execution_count": 13,
      "outputs": []
    },
    {
      "cell_type": "code",
      "metadata": {
        "id": "kTU2MlZhefTz",
        "colab": {
          "base_uri": "https://localhost:8080/"
        },
        "outputId": "3995f905-eb68-43c6-eb9f-37d00372def6"
      },
      "source": [
        "import os\r\n",
        "import apache_beam as beam\r\n",
        "\r\n",
        "with beam.Pipeline() as pipeline:\r\n",
        " data =(\r\n",
        "    pipeline\r\n",
        "    | beam.io.ReadFromText('superbowl_ads.csv',skip_header_lines=1)\r\n",
        "    | beam.Map(lambda data:data.split(','))# reads the input text file and skips the header part.\r\n",
        "    | beam.GroupBy(lambda data:data[1])\r\n",
        "    # Group by key while combining the value using the sum()function.\r\n",
        "    # | beam.CombinePerKey(sum)\r\n",
        "    # # formatting the result into a string so we can write to a file\r\n",
        "    # | beam.Map(lambda word_count: str(word_count))\r\n",
        "    # Finally, write the results to a output file.\r\n",
        "    | beam.io.WriteToText(\"output2.txt\")\r\n",
        ")\r\n",
        "pipeline.run()"
      ],
      "execution_count": 28,
      "outputs": [
        {
          "output_type": "execute_result",
          "data": {
            "text/plain": [
              "<apache_beam.runners.portability.fn_api_runner.fn_runner.RunnerResult at 0x7fa79f80ab70>"
            ]
          },
          "metadata": {
            "tags": []
          },
          "execution_count": 28
        }
      ]
    },
    {
      "cell_type": "code",
      "metadata": {
        "id": "H3wvptjY1bLL",
        "colab": {
          "base_uri": "https://localhost:8080/"
        },
        "outputId": "de350232-fa40-4824-9ff1-a5e72dd1d024"
      },
      "source": [
        "# installs the apache-beam\r\n",
        "! pip install --quiet -U apache-beam\r\n"
      ],
      "execution_count": null,
      "outputs": [
        {
          "output_type": "stream",
          "text": [
            "\u001b[K     |████████████████████████████████| 9.0MB 5.5MB/s \n",
            "\u001b[K     |████████████████████████████████| 61kB 6.3MB/s \n",
            "\u001b[K     |████████████████████████████████| 153kB 53.5MB/s \n",
            "\u001b[K     |████████████████████████████████| 61kB 6.0MB/s \n",
            "\u001b[K     |████████████████████████████████| 17.7MB 244kB/s \n",
            "\u001b[K     |████████████████████████████████| 2.2MB 45.4MB/s \n",
            "\u001b[K     |████████████████████████████████| 829kB 48.3MB/s \n",
            "\u001b[K     |████████████████████████████████| 112kB 45.5MB/s \n",
            "\u001b[?25h  Building wheel for dill (setup.py) ... \u001b[?25l\u001b[?25hdone\n",
            "  Building wheel for avro-python3 (setup.py) ... \u001b[?25l\u001b[?25hdone\n",
            "  Building wheel for future (setup.py) ... \u001b[?25l\u001b[?25hdone\n",
            "\u001b[31mERROR: multiprocess 0.70.11.1 has requirement dill>=0.3.3, but you'll have dill 0.3.1.1 which is incompatible.\u001b[0m\n",
            "\u001b[31mERROR: google-colab 1.0.0 has requirement requests~=2.23.0, but you'll have requests 2.25.1 which is incompatible.\u001b[0m\n",
            "\u001b[31mERROR: datascience 0.10.6 has requirement folium==0.2.1, but you'll have folium 0.8.3 which is incompatible.\u001b[0m\n"
          ],
          "name": "stdout"
        }
      ]
    },
    {
      "cell_type": "code",
      "metadata": {
        "id": "t13uE_T-GHhS"
      },
      "source": [
        "pip install apache-beam[gcp,aws,test,docs]"
      ],
      "execution_count": null,
      "outputs": []
    },
    {
      "cell_type": "code",
      "metadata": {
        "id": "N__VY5IR1-KZ",
        "colab": {
          "base_uri": "https://localhost:8080/"
        },
        "outputId": "95aa1e28-a58b-4999-968c-17bffd028511"
      },
      "source": [
        "import os\r\n",
        "# for importing apache_beam and naming it as beam \r\n",
        "import apache_beam as beam \r\n",
        "# for importing regular expressions\r\n",
        "import re \r\n",
        "# defining a pipeline named p1 and initializing it\r\n",
        "with beam.Pipeline() as pipeline:\r\n",
        " word_counts =(\r\n",
        "    pipeline\r\n",
        "    | beam.io.ReadFromText('superbowl-ads.csv',skip_header_lines=1)# reads the input text file and skips the header part.\r\n",
        "    | beam.FlatMap(lambda line: re.findall(r\"[a-zA-Z']+\", line)) #Using a regular expression to iterate over all the words in a line that stored in a collection as a tuple of (word,count)\r\n",
        "    # create key-value pairs where the value is 1, in this way we can group by the same word\r\n",
        "    # while adding those 1's and get the counts for every word.\r\n",
        "    |beam.Map(lambda word:(word, 1))\r\n",
        "    # Group by key while combining the value using the sum()function.\r\n",
        "    | beam.CombinePerKey(sum)\r\n",
        "    # formatting the result into a string so we can write to a file\r\n",
        "    | beam.Map(lambda word_count: str(word_count))\r\n",
        "    # Finally, write the results to a output file.\r\n",
        "    | beam.io.WriteToText(\"output.txt\")\r\n",
        ")\r\n",
        "pipeline.run()"
      ],
      "execution_count": null,
      "outputs": [
        {
          "output_type": "execute_result",
          "data": {
            "text/plain": [
              "<apache_beam.runners.portability.fn_api_runner.fn_runner.RunnerResult at 0x7fa62e5c3ba8>"
            ]
          },
          "metadata": {
            "tags": []
          },
          "execution_count": 34
        }
      ]
    },
    {
      "cell_type": "code",
      "metadata": {
        "colab": {
          "base_uri": "https://localhost:8080/"
        },
        "id": "a8-ox4U8EbJe",
        "outputId": "7884c8f6-66be-426e-c4a3-c66c8b50efe0"
      },
      "source": [
        "ls"
      ],
      "execution_count": 32,
      "outputs": [
        {
          "output_type": "stream",
          "text": [
            "adc.json                    \u001b[0m\u001b[01;34msample_data\u001b[0m/       winequality_red.csv\n",
            "output2.txt-00000-of-00001  superbowl_ads.csv\n"
          ],
          "name": "stdout"
        }
      ]
    },
    {
      "cell_type": "code",
      "metadata": {
        "id": "9gWH58rmnto6"
      },
      "source": [
        "cat output2.txt-00000-of-00001"
      ],
      "execution_count": 34,
      "outputs": []
    }
  ]
}